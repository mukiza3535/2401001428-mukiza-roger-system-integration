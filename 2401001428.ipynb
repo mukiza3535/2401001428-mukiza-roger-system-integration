{
  "nbformat": 4,
  "nbformat_minor": 0,
  "metadata": {
    "colab": {
      "provenance": [],
      "toc_visible": true
    },
    "kernelspec": {
      "name": "python3",
      "display_name": "Python 3"
    },
    "language_info": {
      "name": "python"
    }
  },
  "cells": [
    {
      "cell_type": "code",
      "source": [
        "import requests\n",
        "import json"
      ],
      "metadata": {
        "id": "KtexBakWQyLr"
      },
      "execution_count": null,
      "outputs": []
    },
    {
      "cell_type": "code",
      "source": [
        "!pip3 install requests"
      ],
      "metadata": {
        "colab": {
          "base_uri": "https://localhost:8080/"
        },
        "id": "HEAgLNbCR5EC",
        "outputId": "4450c96b-5d36-45f1-fd88-cd7f732f0d4e"
      },
      "execution_count": null,
      "outputs": [
        {
          "output_type": "stream",
          "name": "stdout",
          "text": [
            "Requirement already satisfied: requests in /usr/local/lib/python3.11/dist-packages (2.32.3)\n",
            "Requirement already satisfied: charset-normalizer<4,>=2 in /usr/local/lib/python3.11/dist-packages (from requests) (3.4.2)\n",
            "Requirement already satisfied: idna<4,>=2.5 in /usr/local/lib/python3.11/dist-packages (from requests) (3.10)\n",
            "Requirement already satisfied: urllib3<3,>=1.21.1 in /usr/local/lib/python3.11/dist-packages (from requests) (2.4.0)\n",
            "Requirement already satisfied: certifi>=2017.4.17 in /usr/local/lib/python3.11/dist-packages (from requests) (2025.7.9)\n"
          ]
        }
      ]
    },
    {
      "cell_type": "code",
      "source": [
        "result = requests.get('https://api.stackexchange.com/2.3/questions?order=desc&sort=activity&site=stackoverflow')\n",
        "print(result)"
      ],
      "metadata": {
        "colab": {
          "base_uri": "https://localhost:8080/"
        },
        "id": "BxuytifCSBTJ",
        "outputId": "3342ec4f-cfb9-4a93-a8f2-dcf573729976"
      },
      "execution_count": null,
      "outputs": [
        {
          "output_type": "stream",
          "name": "stdout",
          "text": [
            "<Response [200]>\n"
          ]
        }
      ]
    },
    {
      "cell_type": "code",
      "source": [
        "print(result.json())"
      ],
      "metadata": {
        "colab": {
          "base_uri": "https://localhost:8080/"
        },
        "id": "sGBPNYeXS5rE",
        "outputId": "589b6507-46ad-4958-b752-f1c7b9c01049"
      },
      "execution_count": null,
      "outputs": [
        {
          "output_type": "stream",
          "name": "stdout",
          "text": [
            "{'items': [{'tags': ['c#', '.net-core', 'azure-communication-services'], 'owner': {'account_id': 9526200, 'reputation': 187, 'user_id': 7079339, 'user_type': 'registered', 'accept_rate': 43, 'profile_image': 'https://www.gravatar.com/avatar/9ad3e55f00118075beeba887f2bbd605?s=256&d=identicon&r=PG&f=y&so-version=2', 'display_name': 'Vladimir B', 'link': 'https://stackoverflow.com/users/7079339/vladimir-b'}, 'is_answered': False, 'view_count': 34, 'closed_date': 1752197747, 'answer_count': 0, 'score': 1, 'last_activity_date': 1752318490, 'creation_date': 1752098204, 'last_edit_date': 1752318490, 'question_id': 79696298, 'link': 'https://stackoverflow.com/questions/79696298/how-to-accept-incoming-teams-call-in-acs-call-automation-sdk-and-transfer-to-sip', 'closed_reason': 'Needs more focus', 'title': 'How to accept incoming Teams call in ACS Call Automation SDK and transfer to SIP without Teams Phone license?'}, {'tags': ['python', 'pandas', 'melt', 'pandas-melt'], 'owner': {'account_id': 5581563, 'reputation': 625, 'user_id': 4423300, 'user_type': 'registered', 'accept_rate': 100, 'profile_image': 'https://www.gravatar.com/avatar/984a0cf144b2868efab819eb5661f757?s=256&d=identicon&r=PG&f=y&so-version=2', 'display_name': 'SheCodes', 'link': 'https://stackoverflow.com/users/4423300/shecodes'}, 'is_answered': False, 'view_count': 79, 'answer_count': 1, 'score': 0, 'last_activity_date': 1752318432, 'creation_date': 1752041642, 'last_edit_date': 1752259013, 'question_id': 79695141, 'content_license': 'CC BY-SA 4.0', 'link': 'https://stackoverflow.com/questions/79695141/csv-file-wide-to-long-float-value-gets-truncated-and-getting-integer-for-index', 'title': 'csv file wide to long. Float value gets truncated and getting integer for index column'}, {'tags': ['python', 'snowflake-cloud-data-platform', 'udtf'], 'owner': {'account_id': 39369269, 'reputation': 1, 'user_id': 29242723, 'user_type': 'registered', 'profile_image': 'https://www.gravatar.com/avatar/9934391fbcc0f7d77e52ccfdecd7e798?s=256&d=identicon&r=PG&f=y&so-version=2', 'display_name': 'Nishant Saraswat', 'link': 'https://stackoverflow.com/users/29242723/nishant-saraswat'}, 'is_answered': False, 'view_count': 4, 'answer_count': 0, 'score': 0, 'last_activity_date': 1752318429, 'creation_date': 1752318429, 'question_id': 79699219, 'content_license': 'CC BY-SA 4.0', 'link': 'https://stackoverflow.com/questions/79699219/calling-snowflake-udtf-from-snowflake-stored-procedure', 'title': 'Calling snowflake udtf from snowflake stored procedure'}, {'tags': ['python', 'mongodb', 'docker', 'flask', 'nginx'], 'owner': {'account_id': 1365179, 'reputation': 148, 'user_id': 1301779, 'user_type': 'registered', 'profile_image': 'https://www.gravatar.com/avatar/d1456a7c85e0e19594de0e9d0b7d675e?s=256&d=identicon&r=PG', 'display_name': 'UVuuMe', 'link': 'https://stackoverflow.com/users/1301779/uvuume'}, 'is_answered': False, 'view_count': 5, 'answer_count': 0, 'score': 0, 'last_activity_date': 1752318342, 'creation_date': 1752318342, 'question_id': 79699218, 'content_license': 'CC BY-SA 4.0', 'link': 'https://stackoverflow.com/questions/79699218/cannot-connect-to-mongo-atlas-from-flask-app-inside-docker-with-nginx', 'title': 'Cannot connect to Mongo Atlas from Flask App inside Docker with Nginx'}, {'tags': ['node.js', 'typescript', 'large-language-model', 'model-context-protocol', 'anthropic'], 'owner': {'account_id': 5186979, 'reputation': 1561, 'user_id': 4151080, 'user_type': 'registered', 'accept_rate': 56, 'profile_image': 'https://lh5.googleusercontent.com/-GtVcat7nYvs/AAAAAAAAAAI/AAAAAAAAABU/0a5yjXMEkWY/s256-rj/photo.jpg', 'display_name': 'Jainam Jhaveri', 'link': 'https://stackoverflow.com/users/4151080/jainam-jhaveri'}, 'is_answered': False, 'view_count': 7, 'answer_count': 0, 'score': 0, 'last_activity_date': 1752318299, 'creation_date': 1752318299, 'question_id': 79699217, 'content_license': 'CC BY-SA 4.0', 'link': 'https://stackoverflow.com/questions/79699217/how-to-handle-token-limit-issues-when-processing-large-json-responses-via-mcp-cl', 'title': 'How to handle token limit issues when processing large JSON responses via MCP client-server with LLMs?'}, {'tags': ['mariadb', 'mariadb-10.6'], 'owner': {'account_id': 3202454, 'reputation': 841, 'user_id': 2704265, 'user_type': 'registered', 'accept_rate': 11, 'profile_image': 'https://www.gravatar.com/avatar/35f553ba7ce26c0a81ed223cc179ea12?s=256&d=identicon&r=PG&f=y&so-version=2', 'display_name': 'alancc', 'link': 'https://stackoverflow.com/users/2704265/alancc'}, 'is_answered': False, 'view_count': 12, 'answer_count': 0, 'score': 0, 'last_activity_date': 1752318260, 'creation_date': 1752316075, 'last_edit_date': 1752318260, 'question_id': 79699194, 'content_license': 'CC BY-SA 4.0', 'link': 'https://stackoverflow.com/questions/79699194/increase-tmp-table-size-max-heap-table-size-does-not-improve-tmp-tables-todisk-p', 'title': 'Increase tmp_table_size/max_heap_table_size does not improve Tmp_Tables_ToDisk percentage'}, {'tags': ['spring', 'spring-security', 'checkmarx', 'secure-coding', 'checkmark'], 'owner': {'account_id': 3605417, 'reputation': 1121, 'user_id': 3007690, 'user_type': 'registered', 'accept_rate': 64, 'profile_image': 'https://i.sstatic.net/0rsC3.jpg?s=256', 'display_name': 'kandarp', 'link': 'https://stackoverflow.com/users/3007690/kandarp'}, 'is_answered': False, 'view_count': 8581, 'answer_count': 1, 'score': 1, 'last_activity_date': 1752318240, 'creation_date': 1613920833, 'last_edit_date': 1614769558, 'question_id': 66303835, 'content_license': 'CC BY-SA 4.0', 'link': 'https://stackoverflow.com/questions/66303835/checkmarx-unsafe-object-binding', 'title': 'Checkmarx: Unsafe object binding'}, {'tags': ['html', 'image', 'directory', 'notepad'], 'owner': {'account_id': 18512608, 'reputation': 1, 'user_id': 13487448, 'user_type': 'registered', 'profile_image': 'https://www.gravatar.com/avatar/b89b0849eb60704223e7dc7aadf74be4?s=256&d=identicon&r=PG&f=y&so-version=2', 'display_name': 'Infinity868', 'link': 'https://stackoverflow.com/users/13487448/infinity868'}, 'is_answered': False, 'view_count': 25597, 'answer_count': 2, 'score': 0, 'last_activity_date': 1752318240, 'creation_date': 1588818716, 'question_id': 61648863, 'content_license': 'CC BY-SA 4.0', 'link': 'https://stackoverflow.com/questions/61648863/how-do-i-add-multiple-pages-to-my-html-website-in-notepad', 'title': 'How do I add multiple pages to my html website in notepad?'}, {'tags': ['java', 'json', 'hibernate', 'jpa', 'spring-data'], 'owner': {'account_id': 324759, 'reputation': 1667, 'user_id': 645536, 'user_type': 'registered', 'accept_rate': 50, 'profile_image': 'https://www.gravatar.com/avatar/dccba6feed6b02e32391e34559fedb25?s=256&d=identicon&r=PG&f=y&so-version=2', 'display_name': 'anirus', 'link': 'https://stackoverflow.com/users/645536/anirus'}, 'is_answered': False, 'view_count': 10022, 'answer_count': 3, 'score': 4, 'last_activity_date': 1752318240, 'creation_date': 1490412390, 'last_edit_date': 1490450513, 'question_id': 43012174, 'content_license': 'CC BY-SA 3.0', 'link': 'https://stackoverflow.com/questions/43012174/save-entity-object-with-foreign-key-using-crudrepository', 'title': 'Save entity object with foreign key using CrudRepository'}, {'tags': ['spring-boot', 'openldap', 'spring-ldap'], 'owner': {'account_id': 2411615, 'reputation': 1043, 'user_id': 2106556, 'user_type': 'registered', 'accept_rate': 75, 'profile_image': 'https://www.gravatar.com/avatar/b307a460f2175c919dcf7841cd26a442?s=256&d=identicon&r=PG', 'display_name': 'wmfairuz', 'link': 'https://stackoverflow.com/users/2106556/wmfairuz'}, 'is_answered': False, 'view_count': 9848, 'answer_count': 1, 'score': 1, 'last_activity_date': 1752318240, 'creation_date': 1450781077, 'question_id': 34413972, 'content_license': 'CC BY-SA 3.0', 'link': 'https://stackoverflow.com/questions/34413972/invocation-of-init-method-failed-nested-exception-is-java-lang-abstractmethoder', 'title': 'Invocation of init method failed; nested exception is java.lang.AbstractMethodError'}, {'tags': ['python', 'android', 'ios', 'kotlin', 'android-studio'], 'owner': {'account_id': 42991274, 'reputation': 1, 'user_id': 31021893, 'user_type': 'registered', 'profile_image': 'https://www.gravatar.com/avatar/5ba67075dc12bfe70195ea4e6c428ac8?s=256&d=identicon&r=PG&f=y&so-version=2', 'display_name': 'Rayyan Shaik', 'link': 'https://stackoverflow.com/users/31021893/rayyan-shaik'}, 'is_answered': False, 'view_count': 13, 'closed_date': 1752318552, 'answer_count': 0, 'score': -2, 'last_activity_date': 1752318143, 'creation_date': 1752318143, 'question_id': 79699216, 'link': 'https://stackoverflow.com/questions/79699216/beginner-trying-to-build-a-mobile-app-from-scratch-what-tools-language-and-f', 'closed_reason': 'Not suitable for this site', 'title': 'Beginner Trying to Build a Mobile App from Scratch — What Tools, Language, and Frameworks Should I Use in 2025?'}, {'tags': ['reactjs', 'tailwind-css', 'postcss'], 'owner': {'account_id': 29733727, 'reputation': 1, 'user_id': 22787754, 'user_type': 'registered', 'profile_image': 'https://www.gravatar.com/avatar/49a8ae995f6640858cefd58155cc8248?s=256&d=identicon&r=PG&f=y&so-version=2', 'display_name': 'DrRangoo', 'link': 'https://stackoverflow.com/users/22787754/drrangoo'}, 'is_answered': False, 'view_count': 4, 'answer_count': 0, 'score': 0, 'last_activity_date': 1752318123, 'creation_date': 1752318123, 'question_id': 79699215, 'content_license': 'CC BY-SA 4.0', 'link': 'https://stackoverflow.com/questions/79699215/add-font-in-tailwind-vite-project', 'title': 'Add Font in Tailwind (Vite Project)'}, {'tags': ['node.js', 'npm', 'gitlab'], 'owner': {'account_id': 1157423, 'reputation': 40815, 'user_id': 1137669, 'user_type': 'registered', 'accept_rate': 54, 'profile_image': 'https://www.gravatar.com/avatar/cc61a5c8f5866597519087e6bdaa240c?s=256&d=identicon&r=PG', 'display_name': 'basickarl', 'link': 'https://stackoverflow.com/users/1137669/basickarl'}, 'is_answered': True, 'view_count': 157358, 'protected_date': 1734465777, 'answer_count': 9, 'score': 58, 'last_activity_date': 1752318042, 'creation_date': 1518772992, 'question_id': 48823562, 'content_license': 'CC BY-SA 3.0', 'link': 'https://stackoverflow.com/questions/48823562/npm-install-resulting-in-401-unauthorized-for-private-repo', 'title': 'NPM install resulting in 401 Unauthorized for private repo'}, {'tags': ['eclipse', 'maven', 'lifecycle'], 'owner': {'account_id': 1029918, 'reputation': 1472, 'user_id': 1038447, 'user_type': 'registered', 'accept_rate': 31, 'profile_image': 'https://www.gravatar.com/avatar/2b2c8669d88a7265252b6ede2f0ec677?s=256&d=identicon&r=PG', 'display_name': '&#193;rp&#225;d Magos&#225;nyi', 'link': 'https://stackoverflow.com/users/1038447/%c3%81rp%c3%a1d-magos%c3%a1nyi'}, 'is_answered': False, 'view_count': 7, 'answer_count': 0, 'score': 0, 'last_activity_date': 1752318030, 'creation_date': 1752318030, 'question_id': 79699213, 'content_license': 'CC BY-SA 4.0', 'link': 'https://stackoverflow.com/questions/79699213/how-to-ignore-a-maven-goal-in-eclipse-buid', 'title': 'how to ignore a maven goal in eclipse buid?'}, {'tags': ['php', 'arrays', 'foreach', 'mysqli'], 'owner': {'account_id': 3742690, 'reputation': 504, 'user_id': 3112128, 'user_type': 'registered', 'accept_rate': 65, 'profile_image': 'https://i.sstatic.net/ep58c.jpg?s=256', 'display_name': 'Arbiter', 'link': 'https://stackoverflow.com/users/3112128/arbiter'}, 'is_answered': False, 'view_count': 142, 'answer_count': 0, 'score': 0, 'last_activity_date': 1752317974, 'creation_date': 1396549855, 'last_edit_date': 1752317974, 'question_id': 22845994, 'content_license': 'CC BY-SA 4.0', 'link': 'https://stackoverflow.com/questions/22845994/creating-user-groups-in-php-using-multi-select-dropdown', 'title': 'Creating User Groups in PHP (Using multi-select dropdown)'}, {'tags': ['vuejs2', 'vuex', 'vuetify.js'], 'owner': {'account_id': 18847749, 'reputation': 41, 'user_id': 13747578, 'user_type': 'registered', 'profile_image': 'https://www.gravatar.com/avatar/fa96376d30b064282ffda3f9a7a968a3?s=256&d=identicon&r=PG&f=y&so-version=2', 'display_name': 'Jeffrey Bentley', 'link': 'https://stackoverflow.com/users/13747578/jeffrey-bentley'}, 'is_answered': False, 'view_count': 581, 'answer_count': 1, 'score': -2, 'last_activity_date': 1752317850, 'creation_date': 1592199788, 'question_id': 62382010, 'content_license': 'CC BY-SA 4.0', 'link': 'https://stackoverflow.com/questions/62382010/what-is-the-best-practice-for-creating-a-dialog-for-each-card-item-without-an-ac', 'title': 'What is the best practice for creating a dialog for each card-item without an activator using Vue, Vuex, and Vuetify'}, {'tags': ['powerquery', 'ranking', 'duration'], 'owner': {'account_id': 3348524, 'reputation': 1, 'user_id': 2813118, 'user_type': 'registered', 'profile_image': 'https://www.gravatar.com/avatar/ad6e4e4bb003d282076b46c77e6c6d35?s=256&d=identicon&r=PG&f=y&so-version=2', 'display_name': 'Khorne049', 'link': 'https://stackoverflow.com/users/2813118/khorne049'}, 'is_answered': False, 'view_count': 21, 'answer_count': 2, 'score': 0, 'last_activity_date': 1752317840, 'creation_date': 1752254456, 'question_id': 79698671, 'content_license': 'CC BY-SA 4.0', 'link': 'https://stackoverflow.com/questions/79698671/text-to-duration-in-excel-power-query', 'title': 'Text to Duration in Excel Power Query'}, {'tags': ['c++', 'c++14', 'variadic-templates'], 'owner': {'account_id': 8649447, 'reputation': 2348, 'user_id': 6475652, 'user_type': 'registered', 'accept_rate': 39, 'profile_image': 'https://www.gravatar.com/avatar/fd8c9dafd45a46dba708e637811556e7?s=256&d=identicon&r=PG&f=y&so-version=2', 'display_name': 'vazlsky', 'link': 'https://stackoverflow.com/users/6475652/vazlsky'}, 'is_answered': False, 'view_count': 23, 'answer_count': 0, 'score': 0, 'last_activity_date': 1752317814, 'creation_date': 1752316229, 'last_edit_date': 1752317814, 'question_id': 79699195, 'content_license': 'CC BY-SA 4.0', 'link': 'https://stackoverflow.com/questions/79699195/dynamic-list-of-arguments-for-a-variadic-function', 'title': 'Dynamic list of arguments for a variadic function'}, {'tags': ['list', 'cmake', 'macros', 'set', 'expansion'], 'owner': {'account_id': 12684651, 'reputation': 657, 'user_id': 9216943, 'user_type': 'registered', 'profile_image': 'https://lh6.googleusercontent.com/-Vq8ii5GQCKw/AAAAAAAAAAI/AAAAAAAAAU4/Q-nW6SPnbc4/s256-rj/photo.jpg', 'display_name': 'Zach ', 'link': 'https://stackoverflow.com/users/9216943/zach'}, 'is_answered': False, 'view_count': 31, 'closed_date': 1752174531, 'answer_count': 0, 'score': 0, 'last_activity_date': 1752317809, 'creation_date': 1751932622, 'last_edit_date': 1752317809, 'question_id': 79693529, 'link': 'https://stackoverflow.com/questions/79693529/why-does-this-cmake-list-variable-expansion-not-behave-as-expected', 'closed_reason': 'Not suitable for this site', 'title': 'Why does this CMake list variable expansion not behave as expected?'}, {'tags': ['spring-boot', 'kotlin', 'discord', 'spring-oauth2'], 'owner': {'account_id': 1314915, 'reputation': 8039, 'user_id': 1262024, 'user_type': 'registered', 'accept_rate': 88, 'profile_image': 'https://i.sstatic.net/zKgL8.jpg?s=256', 'display_name': 'Smajl', 'link': 'https://stackoverflow.com/users/1262024/smajl'}, 'is_answered': False, 'view_count': 39, 'answer_count': 0, 'score': 0, 'last_activity_date': 1752317785, 'creation_date': 1752146492, 'last_edit_date': 1752317785, 'question_id': 79696979, 'content_license': 'CC BY-SA 4.0', 'link': 'https://stackoverflow.com/questions/79696979/no-user-context-present-after-finishing-oauth2-flow', 'title': 'No user context present after finishing Oauth2 flow'}, {'tags': ['c#', 'web-applications', 'asp.net-core-webapi', '.net-8.0'], 'owner': {'account_id': 84265, 'reputation': 19052, 'user_id': 235671, 'user_type': 'registered', 'accept_rate': 81, 'profile_image': 'https://i.sstatic.net/xKXSM.png?s=256', 'display_name': 't3chb0t', 'link': 'https://stackoverflow.com/users/235671/t3chb0t'}, 'is_answered': False, 'view_count': 21, 'answer_count': 0, 'score': 0, 'last_activity_date': 1752317685, 'creation_date': 1752311910, 'last_edit_date': 1752317685, 'question_id': 79699143, 'content_license': 'CC BY-SA 4.0', 'link': 'https://stackoverflow.com/questions/79699143/refactoring-minimal-web-application-pattern-into-classic-full-program-cs-with-ma', 'title': 'Refactoring minimal web application pattern into classic full Program.cs with main'}, {'tags': ['regex'], 'owner': {'account_id': 42858342, 'reputation': 11, 'user_id': 30958296, 'user_type': 'registered', 'profile_image': 'https://www.gravatar.com/avatar/97296c050d1aac29100bb806d6d5d8e7?s=256&d=identicon&r=PG&f=y&so-version=2', 'display_name': 'John Simon', 'link': 'https://stackoverflow.com/users/30958296/john-simon'}, 'is_answered': False, 'view_count': 61, 'answer_count': 1, 'score': 1, 'last_activity_date': 1752317632, 'creation_date': 1752305358, 'last_edit_date': 1752313540, 'question_id': 79699098, 'content_license': 'CC BY-SA 4.0', 'link': 'https://stackoverflow.com/questions/79699098/a-regex-expression-that-excludes-a-phrase', 'title': 'A Regex expression that excludes a phrase'}, {'tags': ['python', 'automated-tests', 'pytest'], 'owner': {'account_id': 5939645, 'reputation': 396, 'user_id': 4996797, 'user_type': 'registered', 'profile_image': 'https://www.gravatar.com/avatar/e16f6a5f42cdb40b91c2682d00a8a968?s=256&d=identicon&r=PG&f=y&so-version=2', 'display_name': 'Paweł W&#243;jcik', 'link': 'https://stackoverflow.com/users/4996797/pawe%c5%82-w%c3%b3jcik'}, 'is_answered': False, 'view_count': 31, 'answer_count': 1, 'score': 0, 'last_activity_date': 1752317534, 'creation_date': 1752261734, 'question_id': 79698757, 'content_license': 'CC BY-SA 4.0', 'link': 'https://stackoverflow.com/questions/79698757/pytest-fixture-saved-into-a-pickle', 'title': 'Pytest fixture saved into a pickle'}, {'tags': ['html', 'autocomplete', 'dropdown'], 'owner': {'account_id': 42996092, 'reputation': 1, 'user_id': 31024050, 'user_type': 'registered', 'profile_image': 'https://www.gravatar.com/avatar/2d590ea3725540371f1deff0358ac936?s=256&d=identicon&r=PG&f=y&so-version=2', 'display_name': 'David H.', 'link': 'https://stackoverflow.com/users/31024050/david-h'}, 'is_answered': False, 'view_count': 19, 'answer_count': 0, 'score': 0, 'last_activity_date': 1752317403, 'creation_date': 1752315261, 'last_edit_date': 1752317403, 'question_id': 79699186, 'content_license': 'CC BY-SA 4.0', 'link': 'https://stackoverflow.com/questions/79699186/how-to-link-the-autocomplete-dropdown-item-to-a-subsection-of-same-page-without', 'title': 'How to link the Autocomplete dropdown item to a subsection of same page without displaying full url name'}, {'tags': ['javascript', 'reactjs', 'components'], 'owner': {'account_id': 34374199, 'reputation': 11, 'user_id': 26535772, 'user_type': 'registered', 'profile_image': 'https://www.gravatar.com/avatar/2bf503c25a99c36927066a0fd6468bc7?s=256&d=identicon&r=PG&f=y&so-version=2', 'display_name': 'asfreeman18', 'link': 'https://stackoverflow.com/users/26535772/asfreeman18'}, 'is_answered': True, 'view_count': 100, 'answer_count': 2, 'score': -2, 'last_activity_date': 1752317339, 'creation_date': 1750488836, 'last_edit_date': 1752095654, 'question_id': 79674218, 'content_license': 'CC BY-SA 4.0', 'link': 'https://stackoverflow.com/questions/79674218/how-to-prevent-filtered-component-from-re-rendering-over-and-over', 'title': 'How to prevent filtered component from re-rendering over and over?'}, {'tags': ['python', 'unit-testing'], 'owner': {'account_id': 15346643, 'reputation': 432, 'user_id': 11071831, 'user_type': 'registered', 'profile_image': 'https://i.sstatic.net/Z7Doc.png?s=256', 'display_name': 'Charizard_knows_to_code', 'link': 'https://stackoverflow.com/users/11071831/charizard-knows-to-code'}, 'is_answered': True, 'view_count': 35, 'accepted_answer_id': 79699116, 'answer_count': 2, 'score': 0, 'last_activity_date': 1752317290, 'creation_date': 1752305170, 'last_edit_date': 1752305552, 'question_id': 79699094, 'content_license': 'CC BY-SA 4.0', 'link': 'https://stackoverflow.com/questions/79699094/testing-equality-of-lists-which-contain-nan', 'title': 'Testing equality of lists which contain NaN'}, {'tags': ['kubernetes', 'harbor'], 'owner': {'account_id': 21860345, 'reputation': 171, 'user_id': 16151219, 'user_type': 'registered', 'profile_image': 'https://lh3.googleusercontent.com/a/AATXAJzKe2jnFNMc3fmFBRL1-_jgJjHzcFQxOLxVriZ0=k-s256', 'display_name': 'maantarng', 'link': 'https://stackoverflow.com/users/16151219/maantarng'}, 'is_answered': False, 'view_count': 7078, 'answer_count': 2, 'score': 1, 'last_activity_date': 1752317212, 'creation_date': 1657098968, 'last_edit_date': 1657100689, 'question_id': 72880842, 'content_license': 'CC BY-SA 4.0', 'link': 'https://stackoverflow.com/questions/72880842/pulling-image-from-private-container-registry-harbor-in-kubernetes', 'title': 'Pulling image from private container registry (Harbor) in Kubernetes'}, {'tags': ['javascript', 'async-await', 'svelte', 'sveltekit'], 'owner': {'account_id': 6288428, 'reputation': 217, 'user_id': 5780526, 'user_type': 'registered', 'accept_rate': 75, 'profile_image': 'https://www.gravatar.com/avatar/28edeafbfb58850f9aae609f3b8b221c?s=256&d=identicon&r=PG&f=y&so-version=2', 'display_name': 'TheCommoner282', 'link': 'https://stackoverflow.com/users/5780526/thecommoner282'}, 'is_answered': False, 'view_count': 17, 'answer_count': 0, 'score': 0, 'last_activity_date': 1752317144, 'creation_date': 1752317144, 'question_id': 79699207, 'content_license': 'CC BY-SA 4.0', 'link': 'https://stackoverflow.com/questions/79699207/why-not-call-a-fetch-function-eagerly-when-it-is-not-even-awaited', 'title': 'Why not call a fetch function eagerly when it is not even awaited'}, {'tags': ['android', 'animation', 'android-jetpack-compose', 'android-jetpack-compose-material3', 'jetpack-compose-animation'], 'owner': {'account_id': 19046110, 'reputation': 327, 'user_id': 27535495, 'user_type': 'registered', 'profile_image': 'https://lh3.googleusercontent.com/a-/AOh14GiB0dhWRKJG_2D8m8gfD_P_JVt_8-18b0labj6z=k-s256', 'display_name': 'Danfb__', 'link': 'https://stackoverflow.com/users/27535495/danfb'}, 'is_answered': False, 'view_count': 11, 'answer_count': 0, 'score': 0, 'last_activity_date': 1752317063, 'creation_date': 1752317063, 'question_id': 79699206, 'content_license': 'CC BY-SA 4.0', 'link': 'https://stackoverflow.com/questions/79699206/animatedcontent-size-change-animation-not-working-smoothly-in-jetpack-compose-di', 'title': 'AnimatedContent size change animation not working smoothly in Jetpack Compose dialog'}, {'tags': ['windows', 'powershell', 'powershell-remoting'], 'owner': {'account_id': 7796812, 'reputation': 6719, 'user_id': 5897602, 'user_type': 'registered', 'accept_rate': 92, 'profile_image': 'https://i.sstatic.net/WZb8m.jpg?s=256', 'display_name': 'Jaquarh', 'link': 'https://stackoverflow.com/users/5897602/jaquarh'}, 'is_answered': True, 'view_count': 1916, 'accepted_answer_id': 68523099, 'answer_count': 1, 'score': 1, 'last_activity_date': 1752317024, 'creation_date': 1627253626, 'question_id': 68523062, 'content_license': 'CC BY-SA 4.0', 'link': 'https://stackoverflow.com/questions/68523062/how-to-use-powershell-to-download-and-pipe-to-execution-with-arguments', 'title': 'How to use Powershell to download and pipe to execution with arguments'}], 'has_more': True, 'quota_max': 300, 'quota_remaining': 299}\n"
          ]
        }
      ]
    },
    {
      "cell_type": "code",
      "source": [
        "for questions in result.json()['items']:\n",
        "    if questions['answer_count'] == 0:\n",
        "        print(questions['title'])\n",
        "        print(questions['link'])\n",
        "    else:\n",
        "            print(\"Skipped\")\n",
        "\n",
        "            print()"
      ],
      "metadata": {
        "colab": {
          "base_uri": "https://localhost:8080/"
        },
        "id": "caQyu5nfXHbs",
        "outputId": "794223f1-bdb8-49b4-8571-0ab3d37d7b90"
      },
      "execution_count": null,
      "outputs": [
        {
          "output_type": "stream",
          "name": "stdout",
          "text": [
            "How to accept incoming Teams call in ACS Call Automation SDK and transfer to SIP without Teams Phone license?\n",
            "https://stackoverflow.com/questions/79696298/how-to-accept-incoming-teams-call-in-acs-call-automation-sdk-and-transfer-to-sip\n",
            "Skipped\n",
            "\n",
            "Calling snowflake udtf from snowflake stored procedure\n",
            "https://stackoverflow.com/questions/79699219/calling-snowflake-udtf-from-snowflake-stored-procedure\n",
            "Cannot connect to Mongo Atlas from Flask App inside Docker with Nginx\n",
            "https://stackoverflow.com/questions/79699218/cannot-connect-to-mongo-atlas-from-flask-app-inside-docker-with-nginx\n",
            "How to handle token limit issues when processing large JSON responses via MCP client-server with LLMs?\n",
            "https://stackoverflow.com/questions/79699217/how-to-handle-token-limit-issues-when-processing-large-json-responses-via-mcp-cl\n",
            "Increase tmp_table_size/max_heap_table_size does not improve Tmp_Tables_ToDisk percentage\n",
            "https://stackoverflow.com/questions/79699194/increase-tmp-table-size-max-heap-table-size-does-not-improve-tmp-tables-todisk-p\n",
            "Skipped\n",
            "\n",
            "Skipped\n",
            "\n",
            "Skipped\n",
            "\n",
            "Skipped\n",
            "\n",
            "Beginner Trying to Build a Mobile App from Scratch — What Tools, Language, and Frameworks Should I Use in 2025?\n",
            "https://stackoverflow.com/questions/79699216/beginner-trying-to-build-a-mobile-app-from-scratch-what-tools-language-and-f\n",
            "Add Font in Tailwind (Vite Project)\n",
            "https://stackoverflow.com/questions/79699215/add-font-in-tailwind-vite-project\n",
            "Skipped\n",
            "\n",
            "how to ignore a maven goal in eclipse buid?\n",
            "https://stackoverflow.com/questions/79699213/how-to-ignore-a-maven-goal-in-eclipse-buid\n",
            "Creating User Groups in PHP (Using multi-select dropdown)\n",
            "https://stackoverflow.com/questions/22845994/creating-user-groups-in-php-using-multi-select-dropdown\n",
            "Skipped\n",
            "\n",
            "Skipped\n",
            "\n",
            "Dynamic list of arguments for a variadic function\n",
            "https://stackoverflow.com/questions/79699195/dynamic-list-of-arguments-for-a-variadic-function\n",
            "Why does this CMake list variable expansion not behave as expected?\n",
            "https://stackoverflow.com/questions/79693529/why-does-this-cmake-list-variable-expansion-not-behave-as-expected\n",
            "No user context present after finishing Oauth2 flow\n",
            "https://stackoverflow.com/questions/79696979/no-user-context-present-after-finishing-oauth2-flow\n",
            "Refactoring minimal web application pattern into classic full Program.cs with main\n",
            "https://stackoverflow.com/questions/79699143/refactoring-minimal-web-application-pattern-into-classic-full-program-cs-with-ma\n",
            "Skipped\n",
            "\n",
            "Skipped\n",
            "\n",
            "How to link the Autocomplete dropdown item to a subsection of same page without displaying full url name\n",
            "https://stackoverflow.com/questions/79699186/how-to-link-the-autocomplete-dropdown-item-to-a-subsection-of-same-page-without\n",
            "Skipped\n",
            "\n",
            "Skipped\n",
            "\n",
            "Skipped\n",
            "\n",
            "Why not call a fetch function eagerly when it is not even awaited\n",
            "https://stackoverflow.com/questions/79699207/why-not-call-a-fetch-function-eagerly-when-it-is-not-even-awaited\n",
            "AnimatedContent size change animation not working smoothly in Jetpack Compose dialog\n",
            "https://stackoverflow.com/questions/79699206/animatedcontent-size-change-animation-not-working-smoothly-in-jetpack-compose-di\n",
            "Skipped\n",
            "\n"
          ]
        }
      ]
    }
  ]
}